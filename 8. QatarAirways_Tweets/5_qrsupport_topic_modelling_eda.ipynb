{
 "cells": [
  {
   "cell_type": "code",
   "execution_count": 1,
   "metadata": {},
   "outputs": [],
   "source": [
    "import ast\n",
    "import warnings\n",
    "import textwrap\n",
    "\n",
    "import pandas as pd\n",
    "import numpy as np\n",
    "import matplotlib.pyplot as plt\n",
    "import seaborn as sns\n",
    "\n",
    "from tqdm.auto import tqdm\n",
    "\n",
    "warnings.filterwarnings(\"ignore\")\n",
    "\n",
    "# For better visualizations\n",
    "sns.set(style=\"ticks\", palette=\"muted\", color_codes=True)\n",
    "\n",
    "plt.rcParams['axes.labelsize'] = 15\n",
    "plt.rcParams['axes.titlesize'] = 20\n",
    "plt.rcParams['font.weight'] = 'bold'"
   ]
  },
  {
   "cell_type": "code",
   "execution_count": 2,
   "metadata": {},
   "outputs": [],
   "source": [
    "df=pd.read_csv(\"qatarairways_tweets_sentiments_with_keywords_topics.csv\",\n",
    "               parse_dates=['date'])"
   ]
  },
  {
   "cell_type": "code",
   "execution_count": 4,
   "metadata": {},
   "outputs": [
    {
     "data": {
      "text/html": [
       "<div>\n",
       "<style scoped>\n",
       "    .dataframe tbody tr th:only-of-type {\n",
       "        vertical-align: middle;\n",
       "    }\n",
       "\n",
       "    .dataframe tbody tr th {\n",
       "        vertical-align: top;\n",
       "    }\n",
       "\n",
       "    .dataframe thead th {\n",
       "        text-align: right;\n",
       "    }\n",
       "</style>\n",
       "<table border=\"1\" class=\"dataframe\">\n",
       "  <thead>\n",
       "    <tr style=\"text-align: right;\">\n",
       "      <th></th>\n",
       "      <th>link</th>\n",
       "      <th>text</th>\n",
       "      <th>date</th>\n",
       "      <th>Likes</th>\n",
       "      <th>Comments</th>\n",
       "      <th>hashtags</th>\n",
       "      <th>users</th>\n",
       "      <th>cleaned_text</th>\n",
       "      <th>sntmnt_lbl</th>\n",
       "      <th>score</th>\n",
       "      <th>keybert_kw</th>\n",
       "      <th>yake_kw</th>\n",
       "      <th>keywords</th>\n",
       "      <th>topic_name</th>\n",
       "    </tr>\n",
       "  </thead>\n",
       "  <tbody>\n",
       "    <tr>\n",
       "      <th>0</th>\n",
       "      <td>https://twitter.com/juliet_gough/status/174158...</td>\n",
       "      <td>It was fantastic service onboard. I'm so impre...</td>\n",
       "      <td>2023-12-31 22:23:00+00:00</td>\n",
       "      <td>0</td>\n",
       "      <td>0</td>\n",
       "      <td>[]</td>\n",
       "      <td>juliet_gough</td>\n",
       "      <td>fantastic service onboard impressed thank</td>\n",
       "      <td>positive</td>\n",
       "      <td>0.989524</td>\n",
       "      <td>onboard impressed,fantastic service,impressed ...</td>\n",
       "      <td>fantastic service,service onboard,onboard impr...</td>\n",
       "      <td>fantastic service,thank,fantastic,service onbo...</td>\n",
       "      <td>23_crew_amazing_excellent_comfortable</td>\n",
       "    </tr>\n",
       "    <tr>\n",
       "      <th>1</th>\n",
       "      <td>https://twitter.com/theamaeestales/status/1741...</td>\n",
       "      <td>@qrsupport is there a problem with your app? I...</td>\n",
       "      <td>2023-12-31 19:51:00+00:00</td>\n",
       "      <td>0</td>\n",
       "      <td>0</td>\n",
       "      <td>[]</td>\n",
       "      <td>theamaeestales</td>\n",
       "      <td>problem app not login account</td>\n",
       "      <td>negative</td>\n",
       "      <td>0.781741</td>\n",
       "      <td>not login,app not,problem app,problem,login ac...</td>\n",
       "      <td>problem app,login account,problem,account,app</td>\n",
       "      <td>app not,not login,account,problem app,problem,...</td>\n",
       "      <td>-1_customer_not_ticket_flight</td>\n",
       "    </tr>\n",
       "    <tr>\n",
       "      <th>2</th>\n",
       "      <td>https://twitter.com/rvvaradan/status/174143019...</td>\n",
       "      <td>I have reported the incident. Hoping to get a ...</td>\n",
       "      <td>2023-12-31 12:04:00+00:00</td>\n",
       "      <td>1</td>\n",
       "      <td>3</td>\n",
       "      <td>[]</td>\n",
       "      <td>rvvaradan</td>\n",
       "      <td>report incident hope get resolution soon</td>\n",
       "      <td>neutral</td>\n",
       "      <td>0.689427</td>\n",
       "      <td>resolution soon,get resolution,incident hope,r...</td>\n",
       "      <td>report incident,incident hope,report,incident,...</td>\n",
       "      <td>report,incident,incident hope,get resolution,r...</td>\n",
       "      <td>21_complaint_raise_formal_complain</td>\n",
       "    </tr>\n",
       "  </tbody>\n",
       "</table>\n",
       "</div>"
      ],
      "text/plain": [
       "                                                link  \\\n",
       "0  https://twitter.com/juliet_gough/status/174158...   \n",
       "1  https://twitter.com/theamaeestales/status/1741...   \n",
       "2  https://twitter.com/rvvaradan/status/174143019...   \n",
       "\n",
       "                                                text  \\\n",
       "0  It was fantastic service onboard. I'm so impre...   \n",
       "1  @qrsupport is there a problem with your app? I...   \n",
       "2  I have reported the incident. Hoping to get a ...   \n",
       "\n",
       "                       date  Likes  Comments hashtags           users  \\\n",
       "0 2023-12-31 22:23:00+00:00      0         0       []    juliet_gough   \n",
       "1 2023-12-31 19:51:00+00:00      0         0       []  theamaeestales   \n",
       "2 2023-12-31 12:04:00+00:00      1         3       []       rvvaradan   \n",
       "\n",
       "                                cleaned_text sntmnt_lbl     score  \\\n",
       "0  fantastic service onboard impressed thank   positive  0.989524   \n",
       "1              problem app not login account   negative  0.781741   \n",
       "2   report incident hope get resolution soon    neutral  0.689427   \n",
       "\n",
       "                                          keybert_kw  \\\n",
       "0  onboard impressed,fantastic service,impressed ...   \n",
       "1  not login,app not,problem app,problem,login ac...   \n",
       "2  resolution soon,get resolution,incident hope,r...   \n",
       "\n",
       "                                             yake_kw  \\\n",
       "0  fantastic service,service onboard,onboard impr...   \n",
       "1      problem app,login account,problem,account,app   \n",
       "2  report incident,incident hope,report,incident,...   \n",
       "\n",
       "                                            keywords  \\\n",
       "0  fantastic service,thank,fantastic,service onbo...   \n",
       "1  app not,not login,account,problem app,problem,...   \n",
       "2  report,incident,incident hope,get resolution,r...   \n",
       "\n",
       "                              topic_name  \n",
       "0  23_crew_amazing_excellent_comfortable  \n",
       "1          -1_customer_not_ticket_flight  \n",
       "2     21_complaint_raise_formal_complain  "
      ]
     },
     "execution_count": 4,
     "metadata": {},
     "output_type": "execute_result"
    }
   ],
   "source": [
    "df.head(3)"
   ]
  },
  {
   "cell_type": "code",
   "execution_count": 5,
   "metadata": {},
   "outputs": [
    {
     "name": "stdout",
     "output_type": "stream",
     "text": [
      "<class 'pandas.core.frame.DataFrame'>\n",
      "RangeIndex: 62195 entries, 0 to 62194\n",
      "Data columns (total 14 columns):\n",
      " #   Column        Non-Null Count  Dtype              \n",
      "---  ------        --------------  -----              \n",
      " 0   link          62195 non-null  object             \n",
      " 1   text          62195 non-null  object             \n",
      " 2   date          62195 non-null  datetime64[ns, UTC]\n",
      " 3   Likes         62195 non-null  int64              \n",
      " 4   Comments      62195 non-null  int64              \n",
      " 5   hashtags      62195 non-null  object             \n",
      " 6   users         62195 non-null  object             \n",
      " 7   cleaned_text  62195 non-null  object             \n",
      " 8   sntmnt_lbl    62195 non-null  object             \n",
      " 9   score         62195 non-null  float64            \n",
      " 10  keybert_kw    62195 non-null  object             \n",
      " 11  yake_kw       62195 non-null  object             \n",
      " 12  keywords      62195 non-null  object             \n",
      " 13  topic_name    62195 non-null  object             \n",
      "dtypes: datetime64[ns, UTC](1), float64(1), int64(2), object(10)\n",
      "memory usage: 6.6+ MB\n"
     ]
    }
   ],
   "source": [
    "df.info()"
   ]
  },
  {
   "cell_type": "code",
   "execution_count": 11,
   "metadata": {},
   "outputs": [
    {
     "data": {
      "text/plain": [
       "keywords\n",
       "baggage allowance    190\n",
       "luggage              189\n",
       "bag                  186\n",
       "baggage              159\n",
       "check baggage        133\n",
       "                    ... \n",
       "standard appal         1\n",
       "heaven help            1\n",
       "face low               1\n",
       "high standard          1\n",
       "hold minute            1\n",
       "Name: count, Length: 16272, dtype: int64"
      ]
     },
     "execution_count": 11,
     "metadata": {},
     "output_type": "execute_result"
    }
   ],
   "source": [
    "(\n",
    "    df.query(\"topic_name.str.contains(r'^0')\")\n",
    "    .loc[:, 'keywords']\n",
    "    .str.split(\",\")\n",
    "    .explode()\n",
    "    .value_counts()\n",
    ")"
   ]
  },
  {
   "cell_type": "code",
   "execution_count": null,
   "metadata": {},
   "outputs": [],
   "source": []
  },
  {
   "cell_type": "code",
   "execution_count": null,
   "metadata": {},
   "outputs": [],
   "source": []
  },
  {
   "cell_type": "code",
   "execution_count": null,
   "metadata": {},
   "outputs": [],
   "source": []
  },
  {
   "cell_type": "code",
   "execution_count": null,
   "metadata": {},
   "outputs": [],
   "source": []
  }
 ],
 "metadata": {
  "kernelspec": {
   "display_name": "base",
   "language": "python",
   "name": "python3"
  },
  "language_info": {
   "codemirror_mode": {
    "name": "ipython",
    "version": 3
   },
   "file_extension": ".py",
   "mimetype": "text/x-python",
   "name": "python",
   "nbconvert_exporter": "python",
   "pygments_lexer": "ipython3",
   "version": "3.11.5"
  }
 },
 "nbformat": 4,
 "nbformat_minor": 2
}
